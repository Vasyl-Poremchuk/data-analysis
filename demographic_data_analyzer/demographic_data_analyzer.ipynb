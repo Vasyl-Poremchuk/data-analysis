{
 "cells": [
  {
   "cell_type": "code",
   "execution_count": 1,
   "metadata": {
    "collapsed": true
   },
   "outputs": [],
   "source": [
    "import pandas as pd"
   ]
  },
  {
   "cell_type": "markdown",
   "source": [
    "##### Read data from a file."
   ],
   "metadata": {
    "collapsed": false
   }
  },
  {
   "cell_type": "code",
   "execution_count": 2,
   "outputs": [],
   "source": [
    "adult_df = pd.read_csv(\"adult.data.csv\")"
   ],
   "metadata": {
    "collapsed": false
   }
  },
  {
   "cell_type": "markdown",
   "source": [
    "##### How many of each race are represented in this dataframe?"
   ],
   "metadata": {
    "collapsed": false
   }
  },
  {
   "cell_type": "code",
   "execution_count": 3,
   "outputs": [
    {
     "data": {
      "text/plain": "White                 27816\nBlack                  3124\nAsian-Pac-Islander     1039\nAmer-Indian-Eskimo      311\nOther                   271\nName: race, dtype: int64"
     },
     "execution_count": 3,
     "metadata": {},
     "output_type": "execute_result"
    }
   ],
   "source": [
    "number_of_races = adult_df[\"race\"].value_counts()\n",
    "number_of_races"
   ],
   "metadata": {
    "collapsed": false
   }
  },
  {
   "cell_type": "markdown",
   "source": [
    "##### What is the average age of men?"
   ],
   "metadata": {
    "collapsed": false
   }
  },
  {
   "cell_type": "code",
   "execution_count": 4,
   "outputs": [
    {
     "data": {
      "text/plain": "39.4"
     },
     "execution_count": 4,
     "metadata": {},
     "output_type": "execute_result"
    }
   ],
   "source": [
    "average_age_men = round(adult_df[adult_df[\"sex\"] == \"Male\"][\"age\"].mean(), 1)\n",
    "average_age_men"
   ],
   "metadata": {
    "collapsed": false
   }
  },
  {
   "cell_type": "markdown",
   "source": [
    "##### What is the percentage of people who have a Bachelor's degree?"
   ],
   "metadata": {
    "collapsed": false
   }
  },
  {
   "cell_type": "code",
   "execution_count": 5,
   "outputs": [
    {
     "data": {
      "text/plain": "16.4"
     },
     "execution_count": 5,
     "metadata": {},
     "output_type": "execute_result"
    }
   ],
   "source": [
    "percentage_bachelors = round((adult_df[adult_df[\"education\"] == \"Bachelors\"].shape[0] / adult_df.shape[0]) * 100, 1)\n",
    "percentage_bachelors"
   ],
   "metadata": {
    "collapsed": false
   }
  },
  {
   "cell_type": "markdown",
   "source": [
    "##### What percentage of people with advanced education (Bachelor's, Master's, Doctorate) make more than 50K?"
   ],
   "metadata": {
    "collapsed": false
   }
  },
  {
   "cell_type": "code",
   "execution_count": 6,
   "outputs": [
    {
     "data": {
      "text/plain": "46.5"
     },
     "execution_count": 6,
     "metadata": {},
     "output_type": "execute_result"
    }
   ],
   "source": [
    "education = [\"Bachelors\", \"Masters\", \"Doctorate\"]\n",
    "higher_education = adult_df[adult_df[\"education\"].isin(education)]\n",
    "rich_higher_education = higher_education[higher_education[\"salary\"] == \">50K\"]\n",
    "percentage_rich_higher_education = round((rich_higher_education.shape[0] / higher_education.shape[0]) * 100, 1)\n",
    "percentage_rich_higher_education"
   ],
   "metadata": {
    "collapsed": false
   }
  },
  {
   "cell_type": "markdown",
   "source": [
    "##### What percentage of people without advanced education make more than 50K?"
   ],
   "metadata": {
    "collapsed": false
   }
  },
  {
   "cell_type": "code",
   "execution_count": 7,
   "outputs": [
    {
     "data": {
      "text/plain": "17.4"
     },
     "execution_count": 7,
     "metadata": {},
     "output_type": "execute_result"
    }
   ],
   "source": [
    "lower_education = adult_df[~adult_df[\"education\"].isin(education)]\n",
    "rich_lower_education = lower_education[lower_education[\"salary\"] == \">50K\"]\n",
    "percentage_rich_lower_education = round((rich_lower_education.shape[0] / lower_education.shape[0]) * 100, 1)\n",
    "percentage_rich_lower_education"
   ],
   "metadata": {
    "collapsed": false
   }
  },
  {
   "cell_type": "markdown",
   "source": [
    "##### What is the minimum number of hours a person works per week (hours-per-week feature)?"
   ],
   "metadata": {
    "collapsed": false
   }
  },
  {
   "cell_type": "code",
   "execution_count": 8,
   "outputs": [
    {
     "data": {
      "text/plain": "1"
     },
     "execution_count": 8,
     "metadata": {},
     "output_type": "execute_result"
    }
   ],
   "source": [
    "min_work_hours = adult_df[\"hours-per-week\"].min()\n",
    "min_work_hours"
   ],
   "metadata": {
    "collapsed": false
   }
  },
  {
   "cell_type": "markdown",
   "source": [
    "##### What percentage of the people who work the minimum number of hours per week have a salary of >50K?"
   ],
   "metadata": {
    "collapsed": false
   }
  },
  {
   "cell_type": "code",
   "execution_count": 9,
   "outputs": [
    {
     "data": {
      "text/plain": "10.0"
     },
     "execution_count": 9,
     "metadata": {},
     "output_type": "execute_result"
    }
   ],
   "source": [
    "num_min_workers = adult_df[adult_df[\"hours-per-week\"] == min_work_hours]\n",
    "num_min_workers_rich = num_min_workers[num_min_workers[\"salary\"] == \">50K\"]\n",
    "num_min_workers_rich_percentage = round((num_min_workers_rich.shape[0] / num_min_workers.shape[0]) * 100, 1)\n",
    "num_min_workers_rich_percentage"
   ],
   "metadata": {
    "collapsed": false
   }
  },
  {
   "cell_type": "markdown",
   "source": [
    "##### What country has the highest percentage of people that earn >50K?"
   ],
   "metadata": {
    "collapsed": false
   }
  },
  {
   "cell_type": "code",
   "execution_count": 10,
   "outputs": [
    {
     "data": {
      "text/plain": "'Iran'"
     },
     "execution_count": 10,
     "metadata": {},
     "output_type": "execute_result"
    }
   ],
   "source": [
    "grouped_by_country = adult_df.groupby(\"native-country\")\n",
    "grouped_by_country_rich = grouped_by_country[\"salary\"].apply(lambda x: (x == \">50K\").mean() * 100)\n",
    "highest_earning_country = grouped_by_country_rich.idxmax()\n",
    "highest_earning_country"
   ],
   "metadata": {
    "collapsed": false
   }
  },
  {
   "cell_type": "markdown",
   "source": [
    "##### Identify the most popular occupation for those who earn >50K in India."
   ],
   "metadata": {
    "collapsed": false
   }
  },
  {
   "cell_type": "code",
   "execution_count": 11,
   "outputs": [
    {
     "data": {
      "text/plain": "'Prof-specialty'"
     },
     "execution_count": 11,
     "metadata": {},
     "output_type": "execute_result"
    }
   ],
   "source": [
    "grouped_by_country_india = adult_df[adult_df[\"native-country\"] == \"India\"]\n",
    "grouped_by_country_india_rich = grouped_by_country_india[grouped_by_country_india[\"salary\"] == \">50K\"]\n",
    "most_popular_occupation = grouped_by_country_india_rich[\"occupation\"].mode()[0]\n",
    "most_popular_occupation"
   ],
   "metadata": {
    "collapsed": false
   }
  },
  {
   "cell_type": "code",
   "execution_count": 11,
   "outputs": [],
   "source": [],
   "metadata": {
    "collapsed": false
   }
  }
 ],
 "metadata": {
  "kernelspec": {
   "display_name": "Python 3",
   "language": "python",
   "name": "python3"
  },
  "language_info": {
   "codemirror_mode": {
    "name": "ipython",
    "version": 2
   },
   "file_extension": ".py",
   "mimetype": "text/x-python",
   "name": "python",
   "nbconvert_exporter": "python",
   "pygments_lexer": "ipython2",
   "version": "2.7.6"
  }
 },
 "nbformat": 4,
 "nbformat_minor": 0
}
